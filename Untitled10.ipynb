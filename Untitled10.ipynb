{
  "nbformat": 4,
  "nbformat_minor": 0,
  "metadata": {
    "colab": {
      "provenance": [],
      "toc_visible": true,
      "authorship_tag": "ABX9TyPkryZ8c96W4tRBAryvZTj3",
      "include_colab_link": true
    },
    "kernelspec": {
      "name": "python3",
      "display_name": "Python 3"
    },
    "language_info": {
      "name": "python"
    }
  },
  "cells": [
    {
      "cell_type": "markdown",
      "metadata": {
        "id": "view-in-github",
        "colab_type": "text"
      },
      "source": [
        "<a href=\"https://colab.research.google.com/github/viett887g/baitap-_giua_ki/blob/main/Untitled10.ipynb\" target=\"_parent\"><img src=\"https://colab.research.google.com/assets/colab-badge.svg\" alt=\"Open In Colab\"/></a>"
      ]
    },
    {
      "cell_type": "markdown",
      "source": [
        "# Câu 1"
      ],
      "metadata": {
        "id": "9MUUhgDrOyph"
      }
    },
    {
      "cell_type": "markdown",
      "source": [
        "##a"
      ],
      "metadata": {
        "id": "Xxs39WFMPOPq"
      }
    },
    {
      "cell_type": "markdown",
      "source": [
        "a. Giả sử f :R → R là lồi và a,b thuộc domf với a<b.Chứng minh rằng\n"
      ],
      "metadata": {
        "id": "ikrYH31yOfrb"
      }
    },
    {
      "cell_type": "markdown",
      "source": [
        "\\begin{align}\n",
        "        f(x) <= \\frac{(b-x) \\, f(a)}{b-a} + \\frac{(x-a) \\, f(b)}{b-a}\n",
        "    \\end{align}\n"
      ],
      "metadata": {
        "id": "Ayzvq3isOgSx"
      }
    },
    {
      "cell_type": "markdown",
      "source": [
        "Chứng mình hàm lồi theo bất đẳng thức bằng cách sử dụng định nghĩa hàm lồi.\n",
        "\n",
        "Theo định nghĩa hàm f là lồi với mọi x x1,x2 thuộc domf và t thuộc [0,1] ta có:"
      ],
      "metadata": {
        "id": "iQPDpr_4OiUC"
      }
    },
    {
      "cell_type": "markdown",
      "source": [
        "\\begin{matrix}\n",
        "f(tx1 + (1-t)x2 )<=t*f(x1)+(1-t)*f(x2)\n",
        "\\end{matrix}"
      ],
      "metadata": {
        "id": "XXLnL1bQOlZ4"
      }
    },
    {
      "cell_type": "markdown",
      "source": [
        " Đặt\n",
        " \\begin{align}\n",
        "        t = \\frac{(b-x) \\,}{b-a} , x1=a , x2 =b\n",
        "    \\end{align}\n"
      ],
      "metadata": {
        "id": "TIDQAoMnOnqz"
      }
    },
    {
      "cell_type": "markdown",
      "source": [
        "ta suy ra\n",
        "\\begin{align}\n",
        "        f(x) <= \\frac{(b-x) \\, b}{b-a} + (1-\\frac{(x-a) \\, a}{b-a})<= \\frac{(x-a) \\, f(b)}{b-a} + (1-\\frac{(x-a) \\, f(a)}{b-a})\n",
        "    \\end{align}"
      ],
      "metadata": {
        "id": "T0DWsx9-OrNy"
      }
    },
    {
      "cell_type": "markdown",
      "source": [
        "Từ đó suy ra\n",
        "\\begin{align}\n",
        "        f(x) <= \\frac{(b-x) \\, f(a)}{b-a} + \\frac{(x-a) \\, f(b)}{b-a}\n",
        "    \\end{align}\n",
        "mới mọi x thuộc [a,b]"
      ],
      "metadata": {
        "id": "0Tob7vVyOvmh"
      }
    },
    {
      "cell_type": "markdown",
      "source": [
        "##b"
      ],
      "metadata": {
        "id": "-Wh7v7S-O71B"
      }
    },
    {
      "cell_type": "markdown",
      "source": [
        "b. Hàm số f(x,y)= x^2 − xy + y^2 + 3x−2y+1 là hàm lồi, lõm hay trường hợp khác; vì sao?"
      ],
      "metadata": {
        "id": "BYd8S_RHO-bJ"
      }
    },
    {
      "cell_type": "markdown",
      "source": [
        "Hàm số f(x,y)= x^2 − xy + y^2 + 3x−2y+1 có dạng tổng của các hàm số bậc hai và bậc nhất. Để xác định tính lồi/lõm của hàm số này, ta cần kiểm tra tính chất của ma trận hessian của hàm số này. Ma trận hessian của hàm số f(x,y) là:\n"
      ],
      "metadata": {
        "id": "6eGtVIi2PE-Z"
      }
    },
    {
      "cell_type": "markdown",
      "source": [
        "Hf(x,y) =\\begin{bmatrix}\n",
        "2 & -1\\\\\n",
        "-1 & 2\n",
        "\\end{bmatrix}\n"
      ],
      "metadata": {
        "id": "nwsT-XMjPFdK"
      }
    },
    {
      "cell_type": "markdown",
      "source": [
        "Để kiểm tra xem ma trận Hess này có phải là một ma trận bán xác định dương hay không, ta cần kiểm tra các giá trị riêng của nó. Các giá trị riêng của ma trận Hess này là:\n",
        "\\begin{matrix}\n",
        "λ1​=1\\\\\n",
        "λ2​=3\n",
        "\\end{matrix}\n",
        "\n",
        "\n",
        "Vì tất cả các giá trị riêng đều lớn hơn 0, nên ta kết luận rằng ma trận Hess của hàm số này là một ma trận xác định dương. Do đó, hàm số này là một hàm lồi."
      ],
      "metadata": {
        "id": "XaMJZUWPPHY5"
      }
    },
    {
      "cell_type": "markdown",
      "source": [
        "# Câu 2"
      ],
      "metadata": {
        "id": "o3zpQd27PJL0"
      }
    },
    {
      "cell_type": "markdown",
      "source": [
        "Các bước giải bài toán bằng thuật toán Gradient Descent:\n",
        "\n",
        "1. Khởi tạo giá trị ban đầu cho các biến x1, x2, x3. Trong trường hợp này, ta có x1 = 1, x2 = 2, x3 = -1.5.\n",
        "\n",
        "2. Tính đạo hàm riêng phần của hàm số f(x1,x2,x3) theo từng biến x1, x2, x3. Ta có:\n",
        "\n",
        "$$\\frac{df}{dx1} = 0.2*x1$$\n",
        "\n",
        "$$\\frac{df}{dx2} = 4*x2$$\n",
        "\n",
        "$$\\frac{df}{dx3} = 2*x3$$\n",
        "\n",
        "3. Cập nhật giá trị mới cho các biến x1, x2, x3 dựa trên công thức sau:\n",
        "\n",
        "$$x1_{new} = x1 - \\alpha * \\frac{df}{dx1}$$\n",
        "\n",
        "$$x2_{new} = x2 - \\alpha * \\frac{df}{dx2}$$\n",
        "\n",
        "$$x3_{new} = x3 - \\alpha * \\frac{df}{dx3}$$\n",
        "\n",
        "Trong đó, alpha là hệ số học tập, được khởi tạo là 0.1.\n",
        "\n",
        "\n",
        "4. Lặp lại bước 3 cho đến khi đạt được số lượng vòng lặp tối đa(epoch) hoặc đạt được điều kiện dừng khác. Trong trường hợp này, epoch = 3."
      ],
      "metadata": {
        "id": "Kq0_knLmPNGj"
      }
    },
    {
      "cell_type": "markdown",
      "source": [
        "Dựa trên thuật toán Gradient Descent và các tham số đã cho, ta có thể tính giá trị x1, x2, x3 được cập nhật sau mỗi epoch như sau:\n",
        "\n",
        "**Epoch 1:**\n",
        "\n",
        "- Tính gradient tại x1 = 1, x2 = 2, x3 = -1.5:\n",
        "\n",
        "$$\\frac{df}{dx1} = 0.2*1 = 0.2$$\n",
        "\n",
        "$$\\frac{df}{dx2} = 4*2 = 8$$\n",
        "\n",
        "$$\\frac{df}{dx3} = 2*(-1.5) = -3$$\n",
        "\n",
        "- Cập nhật x1, x2, x3:\n",
        "\n",
        "$$x1_{new} = 1 - 0.1 * 0.2 = 0.98$$\n",
        "\n",
        "$$x2_{new} = 2 - 0.1 * 8 = 1.2$$\n",
        "\n",
        "$$x3_{new} = -1.5 - 0.1 * (-3) = -1.2$$\n",
        "\n",
        "**Epoch 2:**\n",
        "\n",
        "- Tính gradient tại x1 = 0.98, x2 = 1.2, x3 = -1.2:\n",
        "\n",
        "$$\\frac{df}{dx1} = 0.2*0.98 = 0.196$$\n",
        "\n",
        "$$\\frac{df}{dx2} = 4*1.2 = 4.8$$\n",
        "\n",
        "$$\\frac{df}{dx3} = 2*(-1.2) = -2.4$$\n",
        "\n",
        "- Cập nhật x1, x2, x3:\n",
        "\n",
        "$$x1_{new} = 0.98 - 0.1 * 0.196 = 0.9604$$\n",
        "\n",
        "$$x2_{new} = 1.2 - 0.1 * 4.8 = 0.72$$\n",
        "\n",
        "$$x3_{new} = -1.2 - 0.1 * (-2.4) = -0.96$$\n",
        "\n",
        "**Epoch 3:**\n",
        "\n",
        "- Tính gradient tại x1 = 0.9604, x2 = 0.72, x3 = -0.96:\n",
        "\n",
        "$$\\frac{df}{dx1} = 0.2*0.9604 = 0.19208$$\n",
        "\n",
        "$$\\frac{df}{dx2} = 4*0.72 = 2.88$$\n",
        "\n",
        "$$\\frac{df}{dx3} = 2*(-0.96) = -1.92$$\n",
        "\n",
        "- Cập nhật x1, x2, x3:\n",
        "\n",
        "$$x1_{new} = 0.9604 - 0.1 * 0.19208 = 0.941192$$\n",
        "\n",
        "$$x2_{new} = 0.72 - 0.1 * 2.88 = 0.432$$\n",
        "\n",
        "$$x3_{new} = -0.96 - 0.1 * (-1.92) = -0.768$$\n",
        "\n",
        "Vậy sau 3 epoch, ta có x1 = 0.941192, x2 = 0.432, x3 = -0.768."
      ],
      "metadata": {
        "id": "ceuNBFIIPUxI"
      }
    },
    {
      "cell_type": "markdown",
      "source": [
        "# Câu 3"
      ],
      "metadata": {
        "id": "D3WVUfdDQW6p"
      }
    },
    {
      "cell_type": "markdown",
      "source": [
        "Để giải bài toán tối ưu lồi sử dụng thuật toán Gradient Descent với Momentum, chúng ta cần thực hiện các bước sau:\n",
        "\n",
        "Bước1. Khởi tạo các giá trị ban đầu:\n",
        "     $$x_1 = 1, x_2 = 2, x_3 = -1.5$$\n",
        "     $$v_1 = 0, v_2 = 0, v_3 = 0$$\n",
        "     $$\\alpha = 0.1, \\beta = 0.9$$\n",
        "     Số lần lặp (epoch) = 3\n",
        "\n",
        "2. Tính đạo hàm riêng của hàm số $$f(x_1,x_2,x_3) = 0.1*x_1^2 + 2*x_2^2 + x_3^2$$ theo $$x_1, x_2, x_3$$:\n",
        "     \n",
        "     đạo hàm tại x1 = 0.2*x_1\n",
        "     đạo hàm tại x2 = 4*x_2\n",
        "     đạo hàm tại x3 = 2*x_3\n",
        "\n",
        "3. Thực hiện vòng lặp cho mỗi epoch:\n",
        "     Cập nhật giá trị momentum: $$v_i = \\beta * v_i + (1-\\beta) * \\frac{\\partial f}{\\partial x_i}$$\n",
        "     Cập nhật giá trị $$x_i$$: $$x_i = x_i - \\alpha * v_i$$\n"
      ],
      "metadata": {
        "id": "fD3JvYgNPdC4"
      }
    },
    {
      "cell_type": "markdown",
      "source": [
        "Tính giá trị cập nhật của  of $$x_1, x_2, x_3$$ sau mỗi epoch.\n",
        "\n",
        "**Epoch 1:**\n",
        "\n",
        "Tính gradient:\n",
        "- $$\\frac{\\partial f}{\\partial x_1} = 0.2*x_1 = 0.2*1 = 0.2$$\n",
        "- $$\\frac{\\partial f}{\\partial x_2} = 4*x_2 = 4*2 = 8$$\n",
        "- $$\\frac{\\partial f}{\\partial x_3} = 2*x_3 = 2*(-1.5) = -3$$\n",
        "\n",
        "Cập nhật giá trị momentum:\n",
        "- $$v_1 = \\beta * v_1 + (1-\\beta) * \\frac{\\partial f}{\\partial x_1} = 0.9*0 + (1-0.9)*0.2 = 0.02$$\n",
        "- $$v_2 = \\beta * v_2 + (1-\\beta) * \\frac{\\partial f}{\\partial x_2} = 0.9*0 + (1-0.9)*8 = 0.8$$\n",
        "- $$v_3 = \\beta * v_3 + (1-\\beta) * \\frac{\\partial f}{\\partial x_3} = 0.9*0 + (1-0.9)*(-3) = -0.3$$\n",
        "\n",
        "Cập nhật giá trị của $$x_1, x_2, x_3$$:\n",
        "- $$x_1 = x_1 - \\alpha * v_1 = 1 - 0.1*0.02 = 0.998$$\n",
        "- $$x_2 = x_2 - \\alpha * v_2 = 2 - 0.1*0.8 = 1.92$$\n",
        "- $$x_3 = x_3 - \\alpha * v_3 = -1.5 - 0.1*(-0.3) = -1.47$$"
      ],
      "metadata": {
        "id": "0UMaAt-pQdC5"
      }
    },
    {
      "cell_type": "markdown",
      "source": [
        "**Epoch 2:**\n",
        "\n",
        "Tính gradient cập nhật theo các giá trị đã cho trước đó của $$x_1, x_2, x_3$$:\n",
        "- $$\\frac{\\partial f}{\\partial x_1} = 0.2*x_1 = 0.2*0.998 = 0.1996$$\n",
        "- $$\\frac{\\partial f}{\\partial x_2} = 4*x_2 = 4*1.92 = 7.68$$\n",
        "- $$\\frac{\\partial f}{\\partial x_3} = 2*x_3 = 2*(-1.47) = -2.94$$\n",
        "\n",
        "Cập nhật giá trị momentum:\n",
        "- $$v_1 = \\beta * v_1 + (1-\\beta) * \\frac{\\partial f}{\\partial x_1} = 0.9*0.02 + (1-0.9)*0.1996 = 0.03796$$\n",
        "- $$v_2 = \\beta * v_2 + (1-\\beta) * \\frac{\\partial f}{\\partial x_2} = 0.9*0.8 + (1-0.9)*7.68 = 1.468$$\n",
        "- $$v_3 = \\beta * v_3 + (1-\\beta) * \\frac{\\partial f}{\\partial x_3} = 0.9*(-0.3) + (1-0.9)*(-2.94) = -0.564$$\n",
        "\n",
        "Cập nhật giá trị của $$x_1, x_2, x_3$$:\n",
        "- $$x_1 = x_1 - \\alpha * v_1 = 0.998 - 0.1*0.03796 = 0.996204$$\n",
        "- $$x_2 = x_2 - \\alpha * v_2 = 1.92 - 0.1*1.468 = 1.8532$$\n",
        "- $$x_3 = x_3 - \\alpha * v_3 = -1.47 - 0.1*(-0.564) = -1.4266$$"
      ],
      "metadata": {
        "id": "nJxmDPfdQdsj"
      }
    },
    {
      "cell_type": "markdown",
      "source": [
        "**Epoch 3:**\n",
        "\n",
        "Tính giá trị cập nhật của gradient theo các giá trị đã cho trước đó của $$x_1, x_2, x_3$$:\n",
        "- $$\\frac{\\partial f}{\\partial x_1} = 0.2*x_1 = 0.2*0.996204 = 0.1992408$$\n",
        "- $$\\frac{\\partial f}{\\partial x_2} = 4*x_2 = 4*1.8532 = 7.4128$$\n",
        "- $$\\frac{\\partial f}{\\partial x_3} = 2*x_3 = 2*(-1.4266) = -2.8532$$\n",
        "\n",
        "Cập nhật giá trị momentum:\n",
        "- $$v_1 = \\beta * v_1 + (1-\\beta) * \\frac{\\partial f}{\\partial x_1} = 0.9*0.03796 + (1-0.9)*0.1992408 = 0.05614872$$\n",
        "- $$v_2 = \\beta * v_2 + (1-\\beta) * \\frac{\\partial f}{\\partial x_2} = 0.9*1.468 + (1-0.9)*7.4128 = 2.03352$$\n",
        "- $$v_3 = \\beta * v_3 + (1-\\beta) * \\frac{\\partial f}{\\partial x_3} = 0.9*(-0.564) + (1-0.9)*(-2.8532) = -0.79368$$\n",
        "\n",
        "Cập nhật giá trị của $$x_1, x_2, x_3$$:\n",
        "- $$x_1 = x_1 - \\alpha * v_1 = 0.996204 - 0.1*0.05614872 = 0.989390128$$\n",
        "- $$x_2 = x_2 - \\alpha * v_2 = 1.8532 - 0.1*2.03352 = 1.653048$$\n",
        "- $$x_3 = x_3 - \\alpha * v_3 = -1.4266 - 0.1*(-0.79368) = -1.352032$$\n",
        "\n",
        "Sau 3 Epochs Dựa trên Gradient vói Momentum ta thu được các giá trị $$x_1, x_2, x_3$$ xấp xỉ bằng $$0.989, 1.653,-1.352$$,đó là các điểm cực tiểu của hàm $$f(x_1,x_2,x_3) = 0.1*x_1^2 + 2*x_2^2 + x_3^2$$."
      ],
      "metadata": {
        "id": "hP4D5LVbQhrx"
      }
    },
    {
      "cell_type": "markdown",
      "source": [
        "# Câu 4"
      ],
      "metadata": {
        "id": "z3hsqsw_QkSi"
      }
    },
    {
      "cell_type": "markdown",
      "source": [
        "**Bước 1**\n",
        "\n",
        "ta cần tính gradient của hàm số f(x1,x2,x3) = 0.1*x1^2 + 2*x2^2 + x3^2. Gradient của hàm số này là:\n",
        "\n",
        "**Bước 2**\n",
        "\n",
        "$$\\nabla f(x1,x2,x3) = [0.2*x1, 4*x2, 2*x3]$$\n",
        "\n",
        "Tiếp theo, chúng ta sẽ thực hiện thuật toán Gradient Descent với Adaptive Moment Estimation (Adam) qua từng epoch. Đầu tiên, chúng ta khởi tạo các giá trị:\n",
        "\n",
        "$$x1 = 1, x2 = 2, x3 = -1.5, v_i = 0, s_i = 0, i \\in \\{1,2,3\\}, \\alpha = 0.001 , \\beta_1 = 0.9, \\beta_2 = 0.999, \\epsilon = 10^{-8}, epoch = 3.$$\n",
        "**Bước 3**\n",
        "thực hiện các bước sau cho mỗi epoch:\n",
        "\n",
        "1. Tính gradient: g = [0.2*x1, 4*x2, 2*x3]\n",
        "2. Cập nhật moment đầu tiên: v = beta_1*v + (1-beta_1)*g\n",
        "3. Cập nhật moment thứ hai: s = beta_2*s + (1-beta_2)*g^2\n",
        "4. Điều chỉnh moment đầu tiên: v_hat = v/(1-beta_1^epoch)\n",
        "5. Điều chỉnh moment thứ hai: s_hat = s/(1-beta_2^epoch)\n",
        "6. Cập nhật x: x = x - alpha*v_hat/(sqrt(s_hat) + epsilon)\n"
      ],
      "metadata": {
        "id": "PixFmckJQqK8"
      }
    },
    {
      "cell_type": "markdown",
      "source": [
        "epoch 1\n",
        "\n",
        "Đầu tiên, chúng ta cần tính gradient tại điểm khởi tạo:\n",
        "\n",
        "$$g = [0.2*x1, 4*x2, 2*x3] = [0.2*1, 4*2, 2*(-1.5)] = [0.2, 8, -3].$$\n",
        "\n",
        "Tiếp theo, chúng ta cập nhật moment đầu tiên và moment thứ hai:\n",
        "\n",
        "$$v = \\beta_1*v + (1-\\beta_1)*g = 0.9*0 + (1-0.9)*[0.2, 8, -3] = [0.02, 0.8, -0.3],$$\n",
        "$$s = \\beta_2*s + (1-\\beta_2)*g^2 = 0.999*0 + (1-0.999)*[0.2, 8, -3]^2 = [0.0004, 0.064, 0.009].$$\n",
        "\n",
        "Sau đó, chúng ta điều chỉnh moment đầu tiên và moment thứ hai:\n",
        "\n",
        "$$v_{\\text{hat}} = v/(1-\\beta_1) = [0.02, 0.8, -0.3]/(1-0.9) = [0.2, 8, -3],$$\n",
        "$$s_{\\text{hat}} = s/(1-\\beta_2) = [0.0004, 0.064, 0.009]/(1-0.999) = [0.4, 64, 9].$$\n",
        "\n",
        "Cuối cùng, chúng ta cập nhật x:\n",
        "\n",
        "$$x = x - \\alpha*v_{\\text{hat}}/(\\sqrt{s_{\\text{hat}}} + \\epsilon) = [1, 2, -1.5] - 0.001*[0.2, 8, -3]/(\\sqrt{[0.4, 64, 9]} + 10^{-8}) \\approx [0.999, 1.99, -1.499].$$\n",
        "\n",
        "Vậy sau epoch đầu tiên, giá trị cập nhật của x1, x2, và x3 là x1 ≈ 0.999, x2 ≈ 1.99, và x3 ≈ -1.499."
      ],
      "metadata": {
        "id": "FEKDZ9DHQq1j"
      }
    },
    {
      "cell_type": "markdown",
      "source": [
        "epoch 2\n",
        "\n",
        "Để tính x1, x2, và x3 sau epoch thứ hai, chúng ta lặp lại các bước tương tự như ở epoch đầu tiên, nhưng lần này sử dụng các giá trị cập nhật từ epoch trước:\n",
        "\n",
        "$$x = [0.999, 1.99, -1.499], v = [0.02, 0.8, -0.3], s = [0.0004, 0.064, 0.009].$$\n",
        "\n",
        "Tính gradient tại điểm mới:\n",
        "\n",
        "$$g = [0.2*x1, 4*x2, 2*x3] = [0.2*0.999, 4*1.99, 2*(-1.499)] = [0.1998, 7.96, -2.998].$$\n",
        "\n",
        "Cập nhật moment đầu tiên và moment thứ hai:\n",
        "\n",
        "$$v = \\beta_1*v + (1-\\beta_1)*g = 0.9*[0.02, 0.8, -0.3] + (1-0.9)*[0.1998, 7.96, -2.998] = [0.038, 1.516, -0.57],$$\n",
        "$$s = \\beta_2*s + (1-\\beta_2)*g^2 = 0.999*[0.0004, 0.064, 0.009] + (1-0.999)*[0.1998, 7.96, -2.998]^2 = [0.000798, 0.127, 0.018].$$\n",
        "\n",
        "Điều chỉnh moment đầu tiên và moment thứ hai:\n",
        "\n",
        "$$v_{\\text{hat}} = v/(1-\\beta_1^2) = [0.038, 1.516, -0.57]/(1-0.9^2) = [0.4, 16, -6],$$\n",
        "$$s_{\\text{hat}} = s/(1-\\beta_2^2) = [0.000798, 0.127, 0.018]/(1-0.999^2) = [0.8, 127, 18].$$\n",
        "\n",
        "Cuối cùng, cập nhật x:\n",
        "\n",
        "$$x = x - \\alpha*v_{\\text{hat}}/(\\sqrt{s_{\\text{hat}}} + \\epsilon) = [0.999, 1.99, -1.499] - 0.001*[0.4, 16, -6]/(\\sqrt{[0.8, 127, 18]} + 10^{-8}) \\approx [0.998, 1.98, -1.498].$$\n",
        "\n",
        "Vậy sau epoch thứ hai, giá trị cập nhật của x1, x2, và x3 là x1 ≈ 0.998, x2 ≈ 1.98, và x3 ≈ -1.498."
      ],
      "metadata": {
        "id": "7LKVjUBEQxGZ"
      }
    },
    {
      "cell_type": "markdown",
      "source": [
        "epoch 3\n",
        "\n",
        "Để tính x1, x2, và x3 sau epoch thứ ba, chúng ta lặp lại các bước tương tự như ở epoch trước, nhưng lần này sử dụng các giá trị cập nhật từ epoch trước:\n",
        "\n",
        "$$x = [0.998, 1.98, -1.498], v = [0.038, 1.516, -0.57], s = [0.000798, 0.127, 0.018].$$\n",
        "\n",
        "Tính gradient tại điểm mới:\n",
        "\n",
        "$$g = [0.2*x1, 4*x2, 2*x3] = [0.2*0.998, 4*1.98, 2*(-1.498)] = [0.1996, 7.92, -2.996].$$\n",
        "\n",
        "Cập nhật moment đầu tiên và moment thứ hai:\n",
        "\n",
        "$$v = \\beta_1*v + (1-\\beta_1)*g = 0.9*[0.038, 1.516, -0.57] + (1-0.9)*[0.1996, 7.92, -2.996] = [0.056, 2.232, -0.84],$$\n",
        "$$s = \\beta_2*s + (1-\\beta_2)*g^2 = 0.999*[0.000798, 0.127, 0.018] + (1-0.999)*[0.1996, 7.92, -2.996]^2 = [0.001196, 0.19, 0.027].$$\n",
        "\n",
        "Điều chỉnh moment đầu tiên và moment thứ hai:\n",
        "\n",
        "$$v_{\\text{hat}} = v/(1-\\beta_1^3) = [0.056, 2.232, -0.84]/(1-0.9^3) = [0.6, 24, -9],$$\n",
        "$$s_{\\text{hat}} = s/(1-\\beta_2^3) = [0.001196, 0.19, 0.027]/(1-0.999^3) = [1.2, 190, 27].$$\n",
        "\n",
        "Cuối cùng, cập nhật x:\n",
        "\n",
        "$$x = x - \\alpha*v_{\\text{hat}}/(\\sqrt{s_{\\text{hat}}} + \\epsilon) = [0.998, 1.98, -1.498] - 0.001*[0.6, 24, -9]/(\\sqrt{[1.2, 190, 27]} + 10^{-8}) \\approx [0.997, 1.97, -1.497].$$\n",
        "\n",
        "Vậy sau epoch thứ ba, giá trị cập nhật của x1, x2, và x3 là x1 ≈ 0.997, x2 ≈ 1.97, và x3 ≈ -1.497."
      ],
      "metadata": {
        "id": "_FmoVxNwQ0-k"
      }
    }
  ]
}